{
 "cells": [
  {
   "cell_type": "markdown",
   "metadata": {},
   "source": [
    "class Method (Ruby 2.7.0 リファレンスマニュアル)\n",
    "https://docs.ruby-lang.org/ja/latest/class/Method.html"
   ]
  },
  {
   "cell_type": "code",
   "execution_count": 2,
   "metadata": {},
   "outputs": [
    {
     "data": {
      "text/plain": [
       "[1, 2, 3]"
      ]
     },
     "execution_count": 2,
     "metadata": {},
     "output_type": "execute_result"
    }
   ],
   "source": [
    "xs = [1, 2, 3]"
   ]
  },
  {
   "cell_type": "markdown",
   "metadata": {},
   "source": [
    "# 要素のインスタンスメソッド"
   ]
  },
  {
   "cell_type": "code",
   "execution_count": 6,
   "metadata": {},
   "outputs": [
    {
     "name": "stdout",
     "output_type": "stream",
     "text": [
      "[\"1\", \"2\", \"3\"]\n",
      "[\"1\", \"2\", \"3\"]\n"
     ]
    }
   ],
   "source": [
    "p xs.map { |x| x.to_s }\n",
    "p xs.map(&:to_s)\n",
    "\n",
    "# メソッド呼び出しの引数以外の場所で書くと文法エラー\n",
    "# &:to_s #=> syntax error, unexpected &, expecting end-of-input\n",
    "# x = &:to_s #=> syntax error, unexpected &\n",
    "\n",
    "nil"
   ]
  },
  {
   "cell_type": "markdown",
   "metadata": {},
   "source": [
    "# 別のオブジェクトのメソッド"
   ]
  },
  {
   "cell_type": "code",
   "execution_count": 10,
   "metadata": {},
   "outputs": [
    {
     "name": "stdout",
     "output_type": "stream",
     "text": [
      "[2, 4, 6]\n",
      "[2, 4, 6]\n",
      "[2, 4, 6]\n",
      "#<Method: Foo#x2(x) (pry):2>\n"
     ]
    }
   ],
   "source": [
    "class Foo\n",
    "  def x2(x)\n",
    "    x * 2\n",
    "  end\n",
    "end\n",
    "\n",
    "foo = Foo.new\n",
    "p xs.map { |x| foo.x2(x) }\n",
    "p xs.map( &foo.method(:x2) )\n",
    "p xs.map( &( foo.method(:x2) ) )\n",
    "\n",
    "m = foo.method(:x2)\n",
    "p m\n",
    "\n",
    "nil"
   ]
  },
  {
   "cell_type": "markdown",
   "metadata": {},
   "source": [
    "# クラスメソッド"
   ]
  },
  {
   "cell_type": "code",
   "execution_count": 12,
   "metadata": {},
   "outputs": [
    {
     "name": "stdout",
     "output_type": "stream",
     "text": [
      "[3, 6, 9]\n",
      "[3, 6, 9]\n"
     ]
    }
   ],
   "source": [
    "class Foo\n",
    "  def self.x3(x)\n",
    "    x * 3\n",
    "  end\n",
    "end\n",
    "\n",
    "p xs.map { |x| Foo.x3(x) }\n",
    "p xs.map( &Foo.method(:x3) )\n",
    "\n",
    "nil"
   ]
  },
  {
   "cell_type": "markdown",
   "metadata": {},
   "source": [
    "# モジュールのメソッド"
   ]
  },
  {
   "cell_type": "code",
   "execution_count": 13,
   "metadata": {},
   "outputs": [
    {
     "name": "stdout",
     "output_type": "stream",
     "text": [
      "[4, 8, 12]\n",
      "[4, 8, 12]\n"
     ]
    }
   ],
   "source": [
    "module Bar\n",
    "  def self.x4(x)\n",
    "    x * 4\n",
    "  end\n",
    "end\n",
    "\n",
    "p xs.map { |x| Bar.x4(x) }\n",
    "p xs.map( &Bar.method(:x4) )\n",
    "\n",
    "nil"
   ]
  }
 ],
 "metadata": {
  "kernelspec": {
   "display_name": "Ruby 2.7.1",
   "language": "ruby",
   "name": "ruby"
  },
  "language_info": {
   "file_extension": ".rb",
   "mimetype": "application/x-ruby",
   "name": "ruby",
   "version": "2.7.1"
  }
 },
 "nbformat": 4,
 "nbformat_minor": 4
}
